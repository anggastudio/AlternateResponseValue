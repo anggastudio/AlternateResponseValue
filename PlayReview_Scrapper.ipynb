{
  "nbformat": 4,
  "nbformat_minor": 0,
  "metadata": {
    "colab": {
      "provenance": [],
      "include_colab_link": true
    },
    "kernelspec": {
      "name": "python3",
      "display_name": "Python 3"
    }
  },
  "cells": [
    {
      "cell_type": "markdown",
      "metadata": {
        "id": "view-in-github",
        "colab_type": "text"
      },
      "source": [
        "<a href=\"https://colab.research.google.com/github/anggastudio/AlternateResponseValue/blob/master/PlayReview_Scrapper.ipynb\" target=\"_parent\"><img src=\"https://colab.research.google.com/assets/colab-badge.svg\" alt=\"Open In Colab\"/></a>"
      ]
    },
    {
      "cell_type": "markdown",
      "metadata": {
        "id": "To_vEWFURtMX"
      },
      "source": [
        "# Create a Dataset for Sentiment Analysis"
      ]
    },
    {
      "cell_type": "markdown",
      "metadata": {
        "id": "VI1Dobd2a3ZS"
      },
      "source": [
        "## Setup\n",
        "\n",
        "Let's install the required packages and setup the imports:"
      ]
    },
    {
      "cell_type": "code",
      "metadata": {
        "colab": {
          "base_uri": "https://localhost:8080/"
        },
        "id": "f3dBPXgkNa7U",
        "outputId": "b9a488e3-5450-49b3-c9a7-1bf06c36e4fb"
      },
      "source": [
        "from google.colab import drive\n",
        "drive.mount('/content/drive')"
      ],
      "execution_count": null,
      "outputs": [
        {
          "output_type": "stream",
          "name": "stdout",
          "text": [
            "Mounted at /content/drive\n"
          ]
        }
      ]
    },
    {
      "cell_type": "code",
      "metadata": {
        "id": "we0MhlUF_-uO"
      },
      "source": [
        "!pip install -qq google-play-scraper"
      ],
      "execution_count": null,
      "outputs": []
    },
    {
      "cell_type": "code",
      "metadata": {
        "id": "1rxopHVPO-WO",
        "colab": {
          "base_uri": "https://localhost:8080/"
        },
        "outputId": "4c6cdf0b-a172-4ed5-c557-3c2b4216449f"
      },
      "source": [
        "!pip install -qq -U watermark"
      ],
      "execution_count": null,
      "outputs": [
        {
          "output_type": "stream",
          "name": "stdout",
          "text": [
            "\u001b[?25l\r\u001b[K     |▏                               | 10 kB 3.6 MB/s eta 0:00:01\r\u001b[K     |▍                               | 20 kB 2.7 MB/s eta 0:00:01\r\u001b[K     |▋                               | 30 kB 3.9 MB/s eta 0:00:01\r\u001b[K     |▉                               | 40 kB 3.4 MB/s eta 0:00:01\r\u001b[K     |█                               | 51 kB 3.6 MB/s eta 0:00:01\r\u001b[K     |█▎                              | 61 kB 4.3 MB/s eta 0:00:01\r\u001b[K     |█▌                              | 71 kB 4.3 MB/s eta 0:00:01\r\u001b[K     |█▊                              | 81 kB 4.8 MB/s eta 0:00:01\r\u001b[K     |█▉                              | 92 kB 4.9 MB/s eta 0:00:01\r\u001b[K     |██                              | 102 kB 4.7 MB/s eta 0:00:01\r\u001b[K     |██▎                             | 112 kB 4.7 MB/s eta 0:00:01\r\u001b[K     |██▌                             | 122 kB 4.7 MB/s eta 0:00:01\r\u001b[K     |██▊                             | 133 kB 4.7 MB/s eta 0:00:01\r\u001b[K     |███                             | 143 kB 4.7 MB/s eta 0:00:01\r\u001b[K     |███▏                            | 153 kB 4.7 MB/s eta 0:00:01\r\u001b[K     |███▍                            | 163 kB 4.7 MB/s eta 0:00:01\r\u001b[K     |███▌                            | 174 kB 4.7 MB/s eta 0:00:01\r\u001b[K     |███▊                            | 184 kB 4.7 MB/s eta 0:00:01\r\u001b[K     |████                            | 194 kB 4.7 MB/s eta 0:00:01\r\u001b[K     |████▏                           | 204 kB 4.7 MB/s eta 0:00:01\r\u001b[K     |████▍                           | 215 kB 4.7 MB/s eta 0:00:01\r\u001b[K     |████▋                           | 225 kB 4.7 MB/s eta 0:00:01\r\u001b[K     |████▉                           | 235 kB 4.7 MB/s eta 0:00:01\r\u001b[K     |█████                           | 245 kB 4.7 MB/s eta 0:00:01\r\u001b[K     |█████▎                          | 256 kB 4.7 MB/s eta 0:00:01\r\u001b[K     |█████▍                          | 266 kB 4.7 MB/s eta 0:00:01\r\u001b[K     |█████▋                          | 276 kB 4.7 MB/s eta 0:00:01\r\u001b[K     |█████▉                          | 286 kB 4.7 MB/s eta 0:00:01\r\u001b[K     |██████                          | 296 kB 4.7 MB/s eta 0:00:01\r\u001b[K     |██████▎                         | 307 kB 4.7 MB/s eta 0:00:01\r\u001b[K     |██████▌                         | 317 kB 4.7 MB/s eta 0:00:01\r\u001b[K     |██████▊                         | 327 kB 4.7 MB/s eta 0:00:01\r\u001b[K     |███████                         | 337 kB 4.7 MB/s eta 0:00:01\r\u001b[K     |███████                         | 348 kB 4.7 MB/s eta 0:00:01\r\u001b[K     |███████▎                        | 358 kB 4.7 MB/s eta 0:00:01\r\u001b[K     |███████▌                        | 368 kB 4.7 MB/s eta 0:00:01\r\u001b[K     |███████▊                        | 378 kB 4.7 MB/s eta 0:00:01\r\u001b[K     |████████                        | 389 kB 4.7 MB/s eta 0:00:01\r\u001b[K     |████████▏                       | 399 kB 4.7 MB/s eta 0:00:01\r\u001b[K     |████████▍                       | 409 kB 4.7 MB/s eta 0:00:01\r\u001b[K     |████████▋                       | 419 kB 4.7 MB/s eta 0:00:01\r\u001b[K     |████████▉                       | 430 kB 4.7 MB/s eta 0:00:01\r\u001b[K     |█████████                       | 440 kB 4.7 MB/s eta 0:00:01\r\u001b[K     |█████████▏                      | 450 kB 4.7 MB/s eta 0:00:01\r\u001b[K     |█████████▍                      | 460 kB 4.7 MB/s eta 0:00:01\r\u001b[K     |█████████▋                      | 471 kB 4.7 MB/s eta 0:00:01\r\u001b[K     |█████████▉                      | 481 kB 4.7 MB/s eta 0:00:01\r\u001b[K     |██████████                      | 491 kB 4.7 MB/s eta 0:00:01\r\u001b[K     |██████████▎                     | 501 kB 4.7 MB/s eta 0:00:01\r\u001b[K     |██████████▌                     | 512 kB 4.7 MB/s eta 0:00:01\r\u001b[K     |██████████▋                     | 522 kB 4.7 MB/s eta 0:00:01\r\u001b[K     |██████████▉                     | 532 kB 4.7 MB/s eta 0:00:01\r\u001b[K     |███████████                     | 542 kB 4.7 MB/s eta 0:00:01\r\u001b[K     |███████████▎                    | 552 kB 4.7 MB/s eta 0:00:01\r\u001b[K     |███████████▌                    | 563 kB 4.7 MB/s eta 0:00:01\r\u001b[K     |███████████▊                    | 573 kB 4.7 MB/s eta 0:00:01\r\u001b[K     |████████████                    | 583 kB 4.7 MB/s eta 0:00:01\r\u001b[K     |████████████▏                   | 593 kB 4.7 MB/s eta 0:00:01\r\u001b[K     |████████████▍                   | 604 kB 4.7 MB/s eta 0:00:01\r\u001b[K     |████████████▌                   | 614 kB 4.7 MB/s eta 0:00:01\r\u001b[K     |████████████▊                   | 624 kB 4.7 MB/s eta 0:00:01\r\u001b[K     |█████████████                   | 634 kB 4.7 MB/s eta 0:00:01\r\u001b[K     |█████████████▏                  | 645 kB 4.7 MB/s eta 0:00:01\r\u001b[K     |█████████████▍                  | 655 kB 4.7 MB/s eta 0:00:01\r\u001b[K     |█████████████▋                  | 665 kB 4.7 MB/s eta 0:00:01\r\u001b[K     |█████████████▉                  | 675 kB 4.7 MB/s eta 0:00:01\r\u001b[K     |██████████████                  | 686 kB 4.7 MB/s eta 0:00:01\r\u001b[K     |██████████████▏                 | 696 kB 4.7 MB/s eta 0:00:01\r\u001b[K     |██████████████▍                 | 706 kB 4.7 MB/s eta 0:00:01\r\u001b[K     |██████████████▋                 | 716 kB 4.7 MB/s eta 0:00:01\r\u001b[K     |██████████████▉                 | 727 kB 4.7 MB/s eta 0:00:01\r\u001b[K     |███████████████                 | 737 kB 4.7 MB/s eta 0:00:01\r\u001b[K     |███████████████▎                | 747 kB 4.7 MB/s eta 0:00:01\r\u001b[K     |███████████████▌                | 757 kB 4.7 MB/s eta 0:00:01\r\u001b[K     |███████████████▊                | 768 kB 4.7 MB/s eta 0:00:01\r\u001b[K     |████████████████                | 778 kB 4.7 MB/s eta 0:00:01\r\u001b[K     |████████████████                | 788 kB 4.7 MB/s eta 0:00:01\r\u001b[K     |████████████████▎               | 798 kB 4.7 MB/s eta 0:00:01\r\u001b[K     |████████████████▌               | 808 kB 4.7 MB/s eta 0:00:01\r\u001b[K     |████████████████▊               | 819 kB 4.7 MB/s eta 0:00:01\r\u001b[K     |█████████████████               | 829 kB 4.7 MB/s eta 0:00:01\r\u001b[K     |█████████████████▏              | 839 kB 4.7 MB/s eta 0:00:01\r\u001b[K     |█████████████████▍              | 849 kB 4.7 MB/s eta 0:00:01\r\u001b[K     |█████████████████▋              | 860 kB 4.7 MB/s eta 0:00:01\r\u001b[K     |█████████████████▊              | 870 kB 4.7 MB/s eta 0:00:01\r\u001b[K     |██████████████████              | 880 kB 4.7 MB/s eta 0:00:01\r\u001b[K     |██████████████████▏             | 890 kB 4.7 MB/s eta 0:00:01\r\u001b[K     |██████████████████▍             | 901 kB 4.7 MB/s eta 0:00:01\r\u001b[K     |██████████████████▋             | 911 kB 4.7 MB/s eta 0:00:01\r\u001b[K     |██████████████████▉             | 921 kB 4.7 MB/s eta 0:00:01\r\u001b[K     |███████████████████             | 931 kB 4.7 MB/s eta 0:00:01\r\u001b[K     |███████████████████▎            | 942 kB 4.7 MB/s eta 0:00:01\r\u001b[K     |███████████████████▌            | 952 kB 4.7 MB/s eta 0:00:01\r\u001b[K     |███████████████████▋            | 962 kB 4.7 MB/s eta 0:00:01\r\u001b[K     |███████████████████▉            | 972 kB 4.7 MB/s eta 0:00:01\r\u001b[K     |████████████████████            | 983 kB 4.7 MB/s eta 0:00:01\r\u001b[K     |████████████████████▎           | 993 kB 4.7 MB/s eta 0:00:01\r\u001b[K     |████████████████████▌           | 1.0 MB 4.7 MB/s eta 0:00:01\r\u001b[K     |████████████████████▊           | 1.0 MB 4.7 MB/s eta 0:00:01\r\u001b[K     |█████████████████████           | 1.0 MB 4.7 MB/s eta 0:00:01\r\u001b[K     |█████████████████████▏          | 1.0 MB 4.7 MB/s eta 0:00:01\r\u001b[K     |█████████████████████▎          | 1.0 MB 4.7 MB/s eta 0:00:01\r\u001b[K     |█████████████████████▌          | 1.1 MB 4.7 MB/s eta 0:00:01\r\u001b[K     |█████████████████████▊          | 1.1 MB 4.7 MB/s eta 0:00:01\r\u001b[K     |██████████████████████          | 1.1 MB 4.7 MB/s eta 0:00:01\r\u001b[K     |██████████████████████▏         | 1.1 MB 4.7 MB/s eta 0:00:01\r\u001b[K     |██████████████████████▍         | 1.1 MB 4.7 MB/s eta 0:00:01\r\u001b[K     |██████████████████████▋         | 1.1 MB 4.7 MB/s eta 0:00:01\r\u001b[K     |██████████████████████▉         | 1.1 MB 4.7 MB/s eta 0:00:01\r\u001b[K     |███████████████████████         | 1.1 MB 4.7 MB/s eta 0:00:01\r\u001b[K     |███████████████████████▏        | 1.1 MB 4.7 MB/s eta 0:00:01\r\u001b[K     |███████████████████████▍        | 1.1 MB 4.7 MB/s eta 0:00:01\r\u001b[K     |███████████████████████▋        | 1.2 MB 4.7 MB/s eta 0:00:01\r\u001b[K     |███████████████████████▉        | 1.2 MB 4.7 MB/s eta 0:00:01\r\u001b[K     |████████████████████████        | 1.2 MB 4.7 MB/s eta 0:00:01\r\u001b[K     |████████████████████████▎       | 1.2 MB 4.7 MB/s eta 0:00:01\r\u001b[K     |████████████████████████▌       | 1.2 MB 4.7 MB/s eta 0:00:01\r\u001b[K     |████████████████████████▊       | 1.2 MB 4.7 MB/s eta 0:00:01\r\u001b[K     |████████████████████████▉       | 1.2 MB 4.7 MB/s eta 0:00:01\r\u001b[K     |█████████████████████████       | 1.2 MB 4.7 MB/s eta 0:00:01\r\u001b[K     |█████████████████████████▎      | 1.2 MB 4.7 MB/s eta 0:00:01\r\u001b[K     |█████████████████████████▌      | 1.2 MB 4.7 MB/s eta 0:00:01\r\u001b[K     |█████████████████████████▊      | 1.3 MB 4.7 MB/s eta 0:00:01\r\u001b[K     |██████████████████████████      | 1.3 MB 4.7 MB/s eta 0:00:01\r\u001b[K     |██████████████████████████▏     | 1.3 MB 4.7 MB/s eta 0:00:01\r\u001b[K     |██████████████████████████▍     | 1.3 MB 4.7 MB/s eta 0:00:01\r\u001b[K     |██████████████████████████▌     | 1.3 MB 4.7 MB/s eta 0:00:01\r\u001b[K     |██████████████████████████▊     | 1.3 MB 4.7 MB/s eta 0:00:01\r\u001b[K     |███████████████████████████     | 1.3 MB 4.7 MB/s eta 0:00:01\r\u001b[K     |███████████████████████████▏    | 1.3 MB 4.7 MB/s eta 0:00:01\r\u001b[K     |███████████████████████████▍    | 1.3 MB 4.7 MB/s eta 0:00:01\r\u001b[K     |███████████████████████████▋    | 1.4 MB 4.7 MB/s eta 0:00:01\r\u001b[K     |███████████████████████████▉    | 1.4 MB 4.7 MB/s eta 0:00:01\r\u001b[K     |████████████████████████████    | 1.4 MB 4.7 MB/s eta 0:00:01\r\u001b[K     |████████████████████████████▎   | 1.4 MB 4.7 MB/s eta 0:00:01\r\u001b[K     |████████████████████████████▍   | 1.4 MB 4.7 MB/s eta 0:00:01\r\u001b[K     |████████████████████████████▋   | 1.4 MB 4.7 MB/s eta 0:00:01\r\u001b[K     |████████████████████████████▉   | 1.4 MB 4.7 MB/s eta 0:00:01\r\u001b[K     |█████████████████████████████   | 1.4 MB 4.7 MB/s eta 0:00:01\r\u001b[K     |█████████████████████████████▎  | 1.4 MB 4.7 MB/s eta 0:00:01\r\u001b[K     |█████████████████████████████▌  | 1.4 MB 4.7 MB/s eta 0:00:01\r\u001b[K     |█████████████████████████████▊  | 1.5 MB 4.7 MB/s eta 0:00:01\r\u001b[K     |██████████████████████████████  | 1.5 MB 4.7 MB/s eta 0:00:01\r\u001b[K     |██████████████████████████████  | 1.5 MB 4.7 MB/s eta 0:00:01\r\u001b[K     |██████████████████████████████▎ | 1.5 MB 4.7 MB/s eta 0:00:01\r\u001b[K     |██████████████████████████████▌ | 1.5 MB 4.7 MB/s eta 0:00:01\r\u001b[K     |██████████████████████████████▊ | 1.5 MB 4.7 MB/s eta 0:00:01\r\u001b[K     |███████████████████████████████ | 1.5 MB 4.7 MB/s eta 0:00:01\r\u001b[K     |███████████████████████████████▏| 1.5 MB 4.7 MB/s eta 0:00:01\r\u001b[K     |███████████████████████████████▍| 1.5 MB 4.7 MB/s eta 0:00:01\r\u001b[K     |███████████████████████████████▋| 1.5 MB 4.7 MB/s eta 0:00:01\r\u001b[K     |███████████████████████████████▉| 1.6 MB 4.7 MB/s eta 0:00:01\r\u001b[K     |████████████████████████████████| 1.6 MB 4.7 MB/s eta 0:00:01\r\u001b[K     |████████████████████████████████| 1.6 MB 4.7 MB/s \n",
            "\u001b[?25h"
          ]
        }
      ]
    },
    {
      "cell_type": "code",
      "metadata": {
        "id": "NtL0sXa5PDsG",
        "colab": {
          "base_uri": "https://localhost:8080/"
        },
        "outputId": "b2c4dd25-d788-4d7e-d5ae-e14db56e0143"
      },
      "source": [
        "%reload_ext watermark\n",
        "%watermark -v -p pandas,matplotlib,seaborn,google_play_scraper"
      ],
      "execution_count": null,
      "outputs": [
        {
          "output_type": "stream",
          "name": "stdout",
          "text": [
            "Python implementation: CPython\n",
            "Python version       : 3.7.13\n",
            "IPython version      : 7.9.0\n",
            "\n",
            "pandas             : 1.3.5\n",
            "matplotlib         : 3.2.2\n",
            "seaborn            : 0.11.2\n",
            "google_play_scraper: 1.2.2\n",
            "\n"
          ]
        }
      ]
    },
    {
      "cell_type": "code",
      "metadata": {
        "id": "KO_DkQb1AeSY"
      },
      "source": [
        "import json\n",
        "import pandas as pd\n",
        "from tqdm import tqdm\n",
        "\n",
        "import seaborn as sns\n",
        "import matplotlib.pyplot as plt\n",
        "\n",
        "from pygments import highlight\n",
        "from pygments.lexers import JsonLexer\n",
        "from pygments.formatters import TerminalFormatter\n",
        "\n",
        "from google_play_scraper import Sort, reviews, app\n",
        "\n",
        "%matplotlib inline\n",
        "%config InlineBackend.figure_format='retina'\n",
        "\n",
        "sns.set(style='whitegrid', palette='muted', font_scale=1.2)"
      ],
      "execution_count": null,
      "outputs": []
    },
    {
      "cell_type": "markdown",
      "metadata": {
        "id": "ILxYFPjkSILt"
      },
      "source": [
        "## The Goal of the Dataset\n",
        "\n",
        "You want to get feedback for your app. Both negative and positive are good. But the negative one can reveal critical features that are missing or downtime of your service (when it is much more frequent).\n",
        "\n",
        "Lucky for us, Google Play has plenty of apps, reviews, and scores. We can scrape app info and reviews using the [google-play-scraper](https://github.com/JoMingyu/google-play-scraper) package.\n",
        "\n",
        "You can choose plenty of apps to analyze. But different app categories contain different audiences, domain-specific quirks, and more. We'll start simple.\n",
        "\n",
        "We want apps that have been around some time, so opinion is collected organically. We want to mitigate advertising strategies as much as possible. Apps are constantly being updated, so the time of the review is an important factor.\n",
        "\n",
        "Ideally, you would want to collect every possible review and work with that. However, in the real world data is often limited (too large, inaccessible, etc). So, we'll do the best we can.\n",
        "\n",
        "Let's choose some apps that fit the criteria from the *Productivity* category. We'll use [AppAnnie](https://www.appannie.com/apps/google-play/top-chart/?country=US&category=29&device=&date=2020-04-05&feed=All&rank_sorting_type=rank&page_number=1&page_size=100&table_selections=) to select some of the top US apps:"
      ]
    },
    {
      "cell_type": "code",
      "metadata": {
        "id": "AyooW6bBAIl6"
      },
      "source": [
        "app_packages = [\n",
        "  'com.Info_BMKG'\n",
        "]"
      ],
      "execution_count": null,
      "outputs": []
    },
    {
      "cell_type": "markdown",
      "metadata": {
        "id": "EAxBAfyiZ-QC"
      },
      "source": [
        "## Scraping App Information\n",
        "\n",
        "Let's scrape the info for each app:"
      ]
    },
    {
      "cell_type": "code",
      "metadata": {
        "id": "zusDZbd4AoOG",
        "colab": {
          "base_uri": "https://localhost:8080/"
        },
        "outputId": "3fc2984b-6064-49ee-ead3-bb6b52f66e1e"
      },
      "source": [
        "app_infos = []\n",
        "\n",
        "for ap in tqdm(app_packages):\n",
        "  info = app(ap, lang='in', country='id')\n",
        "  del info['comments']\n",
        "  app_infos.append(info)"
      ],
      "execution_count": null,
      "outputs": [
        {
          "output_type": "stream",
          "name": "stderr",
          "text": [
            "100%|██████████| 1/1 [00:00<00:00,  4.81it/s]\n"
          ]
        }
      ]
    },
    {
      "cell_type": "markdown",
      "metadata": {
        "id": "HcqDfOxyNWrA"
      },
      "source": [
        "We got the info for all 15 apps. Let's write a helper function that prints JSON objects a bit better:"
      ]
    },
    {
      "cell_type": "code",
      "metadata": {
        "id": "4n-vkhrZJPp_"
      },
      "source": [
        "def print_json(json_object):\n",
        "  json_str = json.dumps(\n",
        "    json_object, \n",
        "    indent=2, \n",
        "    sort_keys=True, \n",
        "    default=str\n",
        "  )\n",
        "  print(highlight(json_str, JsonLexer(), TerminalFormatter()))"
      ],
      "execution_count": null,
      "outputs": []
    },
    {
      "cell_type": "markdown",
      "metadata": {
        "id": "385fEVLONdac"
      },
      "source": [
        "Here is a sample app information from the list:"
      ]
    },
    {
      "cell_type": "code",
      "metadata": {
        "id": "TI1s5NBAEl-X",
        "colab": {
          "base_uri": "https://localhost:8080/"
        },
        "outputId": "905a8200-8a4b-44e7-9d47-6e8b8f3f6a19"
      },
      "source": [
        "print_json(app_infos[0])"
      ],
      "execution_count": null,
      "outputs": [
        {
          "output_type": "stream",
          "name": "stdout",
          "text": [
            "{\n",
            "  \u001b[94m\"adSupported\"\u001b[39;49;00m: \u001b[34mfalse\u001b[39;49;00m,\n",
            "  \u001b[94m\"appId\"\u001b[39;49;00m: \u001b[33m\"com.Info_BMKG\"\u001b[39;49;00m,\n",
            "  \u001b[94m\"containsAds\"\u001b[39;49;00m: \u001b[34mfalse\u001b[39;49;00m,\n",
            "  \u001b[94m\"contentRating\"\u001b[39;49;00m: \u001b[33m\"Rating 3+\"\u001b[39;49;00m,\n",
            "  \u001b[94m\"contentRatingDescription\"\u001b[39;49;00m: \u001b[34mnull\u001b[39;49;00m,\n",
            "  \u001b[94m\"currency\"\u001b[39;49;00m: \u001b[33m\"IDR\"\u001b[39;49;00m,\n",
            "  \u001b[94m\"description\"\u001b[39;49;00m: \u001b[33m\"Informasi Cuaca, Iklim, Kualitas Udara, dan Gempabumi yang terjadi di Indonesia. Aplikasi mobile ini resmi dirilis oleh Badan Meteorologi, Klimatologi dan Geofisika (BMKG).\\r\\n\\r\\nFitur-fitur dalam aplikasi mobile Info BMKG:\\r\\n\\r\\n1. Prakiraan Cuaca\\r\\nMenyajikan informasi prakiraan cuaca dalam 7 harian di seluruh kecamatan di Indonesia\\r\\n\\r\\n2. Gempabumi\\r\\nMenyajikan informasi gempabumi terkini M \\u2265 5.0, gempabumi dirasakan, dan gempabumi real-time disertai jarak lokasi gempa dengan lokasi Anda\\r\\n\\r\\n3. Iklim\\r\\nMenyajikan beberapa informasi iklim di wilayah Indonesia, diantaranya:\\r\\n- Hari Tanpa Hujan\\r\\n- Prakiraan Hujan Bulanan\\r\\n- Analisis Hujan Bulanan\\r\\n\\r\\n4. Kualitas Udara\\r\\nMenyajikan informasi kualitas udara dalam konsentrasi Partikulat Matter (PM2.5) di beberapa kota di Indonesia\\r\\n\\r\\n5. Cuaca Maritim\\r\\nMenyajikan informasi cuaca maritim (ketinggian gelombang laut) di wilayah Perairan Indonesia\\r\\n\\r\\n6. Cuaca Penerbangan\\r\\nMenyajikan informasi cuaca aktual dan 4 jam ke depan untuk bandara di Indonesia\\r\\n\\r\\n7. Cuaca Berbasis Dampak\\r\\nMenyajikan informasi prakiraan cuaca yang sudah memperhitungkan potensi dampak yang akan terjadi\\r\\n\\r\\n8. Indeks Sinar Ultraviolet (UV)\\r\\nMenyajikan informasi mengenai paparan radiasi sinar ultraviolet yang berkaitan dengan kesehatan manusia\\r\\n\\r\\n9. Cuaca Kebakaran Hutan dan Lahan\\r\\nMenyajikan informasi mengenai potensi kebakaran hutan & lahan dan titik panas (hotspot)\\r\\n\\r\\n10. Cuaca Jalur Mudik\\r\\nMenyajikan informasi cuaca kota-kota yang dilewati jalur mudik (hanya ditampilkan ketika momen mudik)\\r\\n\\r\\n11. Cuaca Event\\r\\nMenyajikan informasi cuaca untuk event/ acara tertentu\\r\\n\\r\\n12. Peringatan Dini Cuaca\\r\\nMenyajikan informasi peringatan dini cuaca di seluruh provinsi Indonesia\\r\\n\\r\\n13. Siaran Pers BMKG\\r\\nMenyajikan informasi siaran pers resmi yang dikeluarkan oleh BMKG\\r\\n\\r\\n14. Notifikasi\\r\\nMemberikan notifikasi untuk gempabumi, peringatan dini cuaca, dan siaran pers BMKG\\r\\n\\r\\n15. Dua Bahasa\\r\\nTersedia dalam format dua bahasa, Bahasa Indonesia dan Bahasa Inggris\"\u001b[39;49;00m,\n",
            "  \u001b[94m\"descriptionHTML\"\u001b[39;49;00m: \u001b[33m\"Informasi Cuaca, Iklim, Kualitas Udara, dan Gempabumi yang terjadi di Indonesia. Aplikasi mobile ini resmi dirilis oleh Badan Meteorologi, Klimatologi dan Geofisika (BMKG).<br><br>Fitur-fitur dalam aplikasi mobile Info BMKG:<br><br>1. Prakiraan Cuaca<br>Menyajikan informasi prakiraan cuaca dalam 7 harian di seluruh kecamatan di Indonesia<br><br>2. Gempabumi<br>Menyajikan informasi gempabumi terkini M \\u2265 5.0, gempabumi dirasakan, dan gempabumi real-time disertai jarak lokasi gempa dengan lokasi Anda<br><br>3. Iklim<br>Menyajikan beberapa informasi iklim di wilayah Indonesia, diantaranya:<br>- Hari Tanpa Hujan<br>- Prakiraan Hujan Bulanan<br>- Analisis Hujan Bulanan<br><br>4. Kualitas Udara<br>Menyajikan informasi kualitas udara dalam konsentrasi Partikulat Matter (PM2.5) di beberapa kota di Indonesia<br><br>5. Cuaca Maritim<br>Menyajikan informasi cuaca maritim (ketinggian gelombang laut) di wilayah Perairan Indonesia<br><br>6. Cuaca Penerbangan<br>Menyajikan informasi cuaca aktual dan 4 jam ke depan untuk bandara di Indonesia<br><br>7. Cuaca Berbasis Dampak<br>Menyajikan informasi prakiraan cuaca yang sudah memperhitungkan potensi dampak yang akan terjadi<br><br>8. Indeks Sinar Ultraviolet (UV)<br>Menyajikan informasi mengenai paparan radiasi sinar ultraviolet yang berkaitan dengan kesehatan manusia<br><br>9. Cuaca Kebakaran Hutan dan Lahan<br>Menyajikan informasi mengenai potensi kebakaran hutan &amp; lahan dan titik panas (hotspot)<br><br>10. Cuaca Jalur Mudik<br>Menyajikan informasi cuaca kota-kota yang dilewati jalur mudik (hanya ditampilkan ketika momen mudik)<br><br>11. Cuaca Event<br>Menyajikan informasi cuaca untuk event/ acara tertentu<br><br>12. Peringatan Dini Cuaca<br>Menyajikan informasi peringatan dini cuaca di seluruh provinsi Indonesia<br><br>13. Siaran Pers BMKG<br>Menyajikan informasi siaran pers resmi yang dikeluarkan oleh BMKG<br><br>14. Notifikasi<br>Memberikan notifikasi untuk gempabumi, peringatan dini cuaca, dan siaran pers BMKG<br><br>15. Dua Bahasa<br>Tersedia dalam format dua bahasa, Bahasa Indonesia dan Bahasa Inggris\"\u001b[39;49;00m,\n",
            "  \u001b[94m\"developer\"\u001b[39;49;00m: \u001b[33m\"Badan Meteorologi Klimatologi dan Geofisika\"\u001b[39;49;00m,\n",
            "  \u001b[94m\"developerAddress\"\u001b[39;49;00m: \u001b[33m\"Jalan Angkasa I No. 2 Kemayoran, Jakarta Pusat\\nDKI Jakarta 10610, Indonesia\"\u001b[39;49;00m,\n",
            "  \u001b[94m\"developerEmail\"\u001b[39;49;00m: \u001b[33m\"apps@bmkg.go.id\"\u001b[39;49;00m,\n",
            "  \u001b[94m\"developerId\"\u001b[39;49;00m: \u001b[33m\"5725423861583722497\"\u001b[39;49;00m,\n",
            "  \u001b[94m\"developerWebsite\"\u001b[39;49;00m: \u001b[33m\"https://apps.bmkg.go.id\"\u001b[39;49;00m,\n",
            "  \u001b[94m\"free\"\u001b[39;49;00m: \u001b[34mtrue\u001b[39;49;00m,\n",
            "  \u001b[94m\"genre\"\u001b[39;49;00m: \u001b[33m\"Cuaca\"\u001b[39;49;00m,\n",
            "  \u001b[94m\"genreId\"\u001b[39;49;00m: \u001b[33m\"WEATHER\"\u001b[39;49;00m,\n",
            "  \u001b[94m\"headerImage\"\u001b[39;49;00m: \u001b[33m\"https://play-lh.googleusercontent.com/4EXLO74QQV57Y70AzY2uHDpu7IKUQIIYUe0CzFNGOxpPD9tZJm1rkowAlH6r3jWbhPG1\"\u001b[39;49;00m,\n",
            "  \u001b[94m\"histogram\"\u001b[39;49;00m: [\n",
            "    \u001b[34m3298\u001b[39;49;00m,\n",
            "    \u001b[34m1421\u001b[39;49;00m,\n",
            "    \u001b[34m3586\u001b[39;49;00m,\n",
            "    \u001b[34m8451\u001b[39;49;00m,\n",
            "    \u001b[34m55947\u001b[39;49;00m\n",
            "  ],\n",
            "  \u001b[94m\"icon\"\u001b[39;49;00m: \u001b[33m\"https://play-lh.googleusercontent.com/sxwXjYM06daD5cpJJYFsK2PQs77JymUoXa7sPAfJabrpkjkyhwt2CeUDByamEw9Tbqc\"\u001b[39;49;00m,\n",
            "  \u001b[94m\"inAppProductPrice\"\u001b[39;49;00m: \u001b[34mnull\u001b[39;49;00m,\n",
            "  \u001b[94m\"installs\"\u001b[39;49;00m: \u001b[33m\"5.000.000+\"\u001b[39;49;00m,\n",
            "  \u001b[94m\"minInstalls\"\u001b[39;49;00m: \u001b[34m5000000\u001b[39;49;00m,\n",
            "  \u001b[94m\"offersIAP\"\u001b[39;49;00m: \u001b[34mfalse\u001b[39;49;00m,\n",
            "  \u001b[94m\"originalPrice\"\u001b[39;49;00m: \u001b[34mnull\u001b[39;49;00m,\n",
            "  \u001b[94m\"price\"\u001b[39;49;00m: \u001b[34m0\u001b[39;49;00m,\n",
            "  \u001b[94m\"privacyPolicy\"\u001b[39;49;00m: \u001b[33m\"https://www.bmkg.go.id\"\u001b[39;49;00m,\n",
            "  \u001b[94m\"ratings\"\u001b[39;49;00m: \u001b[34m72707\u001b[39;49;00m,\n",
            "  \u001b[94m\"realInstalls\"\u001b[39;49;00m: \u001b[34m7760181\u001b[39;49;00m,\n",
            "  \u001b[94m\"recentChanges\"\u001b[39;49;00m: \u001b[33m\"- Penambahan fitur pengaturan lokasi otomatis dan manual untuk lokasi Prakiraan Cuaca\\r\\n- Penambahan informasi Gempabumi Real-time\\r\\n- Pemutakhiran informasi Peringatan Dini Cuaca dengan penambahan detail gambar peta\\r\\n- Pemutakhiran informasi Gempabumi dengan penambahan peta guncangan (shakemap)\\r\\n- Perbaikan beberapa bug\"\u001b[39;49;00m,\n",
            "  \u001b[94m\"recentChangesHTML\"\u001b[39;49;00m: \u001b[33m\"- Penambahan fitur pengaturan lokasi otomatis dan manual untuk lokasi Prakiraan Cuaca<br>- Penambahan informasi Gempabumi Real-time<br>- Pemutakhiran informasi Peringatan Dini Cuaca dengan penambahan detail gambar peta<br>- Pemutakhiran informasi Gempabumi dengan penambahan peta guncangan (shakemap)<br>- Perbaikan beberapa bug\"\u001b[39;49;00m,\n",
            "  \u001b[94m\"released\"\u001b[39;49;00m: \u001b[33m\"6 Mei 2012\"\u001b[39;49;00m,\n",
            "  \u001b[94m\"reviews\"\u001b[39;49;00m: \u001b[34m19767\u001b[39;49;00m,\n",
            "  \u001b[94m\"sale\"\u001b[39;49;00m: \u001b[34mfalse\u001b[39;49;00m,\n",
            "  \u001b[94m\"saleText\"\u001b[39;49;00m: \u001b[34mnull\u001b[39;49;00m,\n",
            "  \u001b[94m\"saleTime\"\u001b[39;49;00m: \u001b[34mnull\u001b[39;49;00m,\n",
            "  \u001b[94m\"score\"\u001b[39;49;00m: \u001b[34m4.544939\u001b[39;49;00m,\n",
            "  \u001b[94m\"screenshots\"\u001b[39;49;00m: [\n",
            "    \u001b[33m\"https://play-lh.googleusercontent.com/QTgrM14p4iIx-Jw3d4vGm-eekHyWe7bJkMrw2MY8k4k0xzOKR5hOkuZGhA30cjaJZc-4\"\u001b[39;49;00m,\n",
            "    \u001b[33m\"https://play-lh.googleusercontent.com/3uoE6F4_vPl4kwXBKxjIcTg0SVEc06mP-iRVp-hCQpGt_D7HGmOPWLxGrMxs3B35Z-E\"\u001b[39;49;00m,\n",
            "    \u001b[33m\"https://play-lh.googleusercontent.com/23tUSP6FauiDBiwXSNaRfslB8o_JLJt7o9l-XHqjPU3sKm5FrbFRg3BqxWosbeMck0UK\"\u001b[39;49;00m,\n",
            "    \u001b[33m\"https://play-lh.googleusercontent.com/6v28_WoGhRIRjvFDciLK45qpeXylx3nyazVMRmqvgbt0gCJXq_0s0h6is9PrjJxkCa8\"\u001b[39;49;00m,\n",
            "    \u001b[33m\"https://play-lh.googleusercontent.com/QKJLQdntZrvIlYCl_30X0sKQJKKvG16JpVfI2Sj2unWpxRXNM9-lxKKpzKV7FN_jNA\"\u001b[39;49;00m,\n",
            "    \u001b[33m\"https://play-lh.googleusercontent.com/ivy7if12OqJGyzmG94AexuHMyJ9umYkR2shNVUCbBG-WLWxIN6zUEFiTrE9hdD9iIwKL\"\u001b[39;49;00m,\n",
            "    \u001b[33m\"https://play-lh.googleusercontent.com/CIb7gc0apIjaImmJFO7-0m6RmNc-wdz_0MUPlmZu4hyeD8IqDefpK4gg1WmX9iOx3Po\"\u001b[39;49;00m,\n",
            "    \u001b[33m\"https://play-lh.googleusercontent.com/p6iweI7N_6av1SaKDN33bEDR1Yq4xurWOmQN-e9M4YAWAblBsDwMzEBXq5wZ-DJn9aOD\"\u001b[39;49;00m\n",
            "  ],\n",
            "  \u001b[94m\"summary\"\u001b[39;49;00m: \u001b[33m\"Cuaca, Iklim, dan Gempabumi Indonesia\"\u001b[39;49;00m,\n",
            "  \u001b[94m\"title\"\u001b[39;49;00m: \u001b[33m\"Info BMKG\"\u001b[39;49;00m,\n",
            "  \u001b[94m\"updated\"\u001b[39;49;00m: \u001b[34m1657520311\u001b[39;49;00m,\n",
            "  \u001b[94m\"url\"\u001b[39;49;00m: \u001b[33m\"https://play.google.com/store/apps/details?id=com.Info_BMKG&hl=in&gl=id\"\u001b[39;49;00m,\n",
            "  \u001b[94m\"version\"\u001b[39;49;00m: \u001b[33m\"2.9.1\"\u001b[39;49;00m,\n",
            "  \u001b[94m\"video\"\u001b[39;49;00m: \u001b[34mnull\u001b[39;49;00m,\n",
            "  \u001b[94m\"videoImage\"\u001b[39;49;00m: \u001b[34mnull\u001b[39;49;00m\n",
            "}\n",
            "\n"
          ]
        }
      ]
    },
    {
      "cell_type": "markdown",
      "metadata": {
        "id": "dAOdYGkYODcZ"
      },
      "source": [
        "This contains lots of information including the number of ratings, number of reviews and number of ratings for each score (1 to 5). Let's ignore all of that and have a look at their beautiful icons:"
      ]
    },
    {
      "cell_type": "markdown",
      "metadata": {
        "id": "mXqklWjwPLVv"
      },
      "source": [
        "## Scraping App Reviews\n",
        "\n",
        "In an ideal world, we would get all the reviews. But there are lots of them and we're scraping the data. That wouldn't be very polite. What should we do?\n",
        "\n",
        "We want:\n",
        "\n",
        "- Balanced dataset - roughly the same number of reviews for each score (1-5)\n",
        "- A representative sample of the reviews for each app\n",
        "\n",
        "We can satisfy the first requirement by using the scraping package option to filter the review score. For the second, we'll sort the reviews by their helpfulness, which are the reviews that Google Play thinks are most important. Just in case, we'll get a subset from the newest, too:"
      ]
    },
    {
      "cell_type": "code",
      "metadata": {
        "id": "vRIID99ZCfjv",
        "colab": {
          "base_uri": "https://localhost:8080/"
        },
        "outputId": "80e839b0-b12f-4ce0-98cb-cc77038ee12b"
      },
      "source": [
        "app_reviews = []\n",
        "\n",
        "for ap in tqdm(app_packages):\n",
        "  for score in list(range(1, 6)):\n",
        "    for sort_order in [Sort.NEWEST]:\n",
        "      rvs, _ = reviews(\n",
        "        ap,\n",
        "        lang='id',\n",
        "        country='id',\n",
        "        sort=sort_order,\n",
        "        #count = 0 if (1 < score < 5) else 5000,\n",
        "        count = 20000 if score == 5 else 20000,\n",
        "        filter_score_with=score\n",
        "      )\n",
        "      for r in rvs:\n",
        "      #  r['sortOrder'] = 'most_relevant' if sort_order == Sort.MOST_RELEVANT else 'most_relevant'\n",
        "         r['appId'] = ap\n",
        "      app_reviews.extend(rvs)"
      ],
      "execution_count": null,
      "outputs": [
        {
          "output_type": "stream",
          "name": "stderr",
          "text": [
            "100%|██████████| 1/1 [00:19<00:00, 19.29s/it]\n"
          ]
        }
      ]
    },
    {
      "cell_type": "markdown",
      "metadata": {
        "id": "gxQMuB20Wsnj"
      },
      "source": [
        "Note that we're adding the app id and sort order to each review. Here's an example for one:"
      ]
    },
    {
      "cell_type": "code",
      "metadata": {
        "id": "tF5exqgWCh1Q",
        "colab": {
          "base_uri": "https://localhost:8080/"
        },
        "outputId": "c36889fe-4dfb-4a64-8ceb-91a0d5cddcc7"
      },
      "source": [
        "print_json(app_reviews[0])"
      ],
      "execution_count": null,
      "outputs": [
        {
          "output_type": "stream",
          "name": "stdout",
          "text": [
            "{\n",
            "  \u001b[94m\"appId\"\u001b[39;49;00m: \u001b[33m\"com.Info_BMKG\"\u001b[39;49;00m,\n",
            "  \u001b[94m\"at\"\u001b[39;49;00m: \u001b[33m\"2022-09-05 07:55:16\"\u001b[39;49;00m,\n",
            "  \u001b[94m\"content\"\u001b[39;49;00m: \u001b[33m\"Tidak akurat, saya daerah Jayapura, Keerom Arso, kemarin hujan, ini hari hujan, tapi di BMKG kemarin dan ini hari di tulis tidak hujan, gimana sih, masa sampai dua hari meleset berturut turut\"\u001b[39;49;00m,\n",
            "  \u001b[94m\"repliedAt\"\u001b[39;49;00m: \u001b[34mnull\u001b[39;49;00m,\n",
            "  \u001b[94m\"replyContent\"\u001b[39;49;00m: \u001b[34mnull\u001b[39;49;00m,\n",
            "  \u001b[94m\"reviewCreatedVersion\"\u001b[39;49;00m: \u001b[33m\"2.9.1\"\u001b[39;49;00m,\n",
            "  \u001b[94m\"reviewId\"\u001b[39;49;00m: \u001b[33m\"a7b2402f-0b8c-45e7-b60f-bb32a5f1d7fd\"\u001b[39;49;00m,\n",
            "  \u001b[94m\"score\"\u001b[39;49;00m: \u001b[34m1\u001b[39;49;00m,\n",
            "  \u001b[94m\"thumbsUpCount\"\u001b[39;49;00m: \u001b[34m0\u001b[39;49;00m,\n",
            "  \u001b[94m\"userImage\"\u001b[39;49;00m: \u001b[33m\"https://play-lh.googleusercontent.com/a-/AFdZuco9K5wt5EsiiFjmyQgIRhnvbd4GhBl45CcZplBi\"\u001b[39;49;00m,\n",
            "  \u001b[94m\"userName\"\u001b[39;49;00m: \u001b[33m\"RIZAL Gaming\"\u001b[39;49;00m\n",
            "}\n",
            "\n"
          ]
        }
      ]
    },
    {
      "cell_type": "markdown",
      "metadata": {
        "id": "R5hErADbOiMU"
      },
      "source": [
        "`repliedAt` and `replyContent` contain the developer response to the review. Of course, they can be missing.\n",
        "\n",
        "How many app reviews did we get?\n",
        "\n"
      ]
    },
    {
      "cell_type": "code",
      "metadata": {
        "id": "e2YjMDQDOdC5",
        "colab": {
          "base_uri": "https://localhost:8080/"
        },
        "outputId": "25a4c638-69f2-4178-acbf-47ce3fb296ad"
      },
      "source": [
        "len(app_reviews)"
      ],
      "execution_count": null,
      "outputs": [
        {
          "output_type": "execute_result",
          "data": {
            "text/plain": [
              "18152"
            ]
          },
          "metadata": {},
          "execution_count": 45
        }
      ]
    },
    {
      "cell_type": "markdown",
      "metadata": {
        "id": "K7FZVC0nOcJ9"
      },
      "source": [
        "Let's save the reviews to a CSV file:"
      ]
    },
    {
      "cell_type": "code",
      "metadata": {
        "id": "1L7Nq2uwCjRI"
      },
      "source": [
        "app_reviews_df = pd.DataFrame(app_reviews)\n",
        "#app_reviews_df.to_csv('/content/drive/MyDrive/Colab Notebooks/reviews.csv', index=None, header=True)\n",
        "app_reviews_df.to_csv('/content/drive/MyDrive/reviews-info-bmkg-en.csv', index=None, header=True)"
      ],
      "execution_count": null,
      "outputs": []
    },
    {
      "cell_type": "markdown",
      "metadata": {
        "id": "Ve-yHopLEz1v"
      },
      "source": [
        "## Summary\n",
        "\n",
        "Well done! You now have a dataset with more than 15k user reviews from 15 productivity apps. Of course, you can go crazy and get much much more.\n",
        "\n",
        "- [Read the tutorial](https://www.curiousily.com/posts/create-dataset-for-sentiment-analysis-by-scraping-google-play-app-reviews-using-python/)\n",
        "- [Run the notebook in your browser (Google Colab)](https://colab.research.google.com/drive/1GDJIpz7BXw55jl9wTOMQDool9m8DIOyp)\n",
        "- [Read the `Getting Things Done with Pytorch` book](https://github.com/curiousily/Getting-Things-Done-with-Pytorch)\n",
        "\n",
        "You learned how to:\n",
        "\n",
        "- Set goals and expectations for your dataset\n",
        "- Scrape Google Play app information\n",
        "- Scrape user reviews for Google Play apps\n",
        "- Save the dataset to CSV files\n",
        "\n",
        "Next, we're going to use the reviews for sentiment analysis with BERT. But first, we'll have to do some text preprocessing!\n"
      ]
    },
    {
      "cell_type": "markdown",
      "metadata": {
        "id": "Z7Jd157eUaa-"
      },
      "source": [
        "## References\n",
        "\n",
        "- [Google Play Scraper for Python](https://github.com/JoMingyu/google-play-scraper)"
      ]
    },
    {
      "cell_type": "markdown",
      "metadata": {
        "id": "SzlJKkISpnym"
      },
      "source": [
        "# Data Exploration"
      ]
    },
    {
      "cell_type": "code",
      "metadata": {
        "colab": {
          "base_uri": "https://localhost:8080/",
          "height": 669
        },
        "id": "HzbxRnaJiR51",
        "outputId": "3e4f6407-dc03-4ed8-91b3-a63df6fcb5be"
      },
      "source": [
        "#df = pd.read_csv(\"/content/drive/MyDrive/Colab Notebooks/reviews.csv\")\n",
        "df = pd.read_csv(\"/content/drive/MyDrive/reviews-info-bmkg.csv\")\n",
        "df.head()"
      ],
      "execution_count": null,
      "outputs": [
        {
          "output_type": "execute_result",
          "data": {
            "text/plain": [
              "                               reviewId           userName  \\\n",
              "0  a0d4a535-bfcf-43fa-b322-dc175f319e8f     hanhan channel   \n",
              "1  a7b2402f-0b8c-45e7-b60f-bb32a5f1d7fd       RIZAL Gaming   \n",
              "2  1fa22ddb-9b17-4d60-9559-1e11f0a56ab3               Kapu   \n",
              "3  1ffb9d7a-db35-45d5-91cb-d3ff85623223           J2 PRIME   \n",
              "4  3745858f-e03a-4d4e-b081-13edf09d3227  arief001 Arief001   \n",
              "\n",
              "                                           userImage  \\\n",
              "0  https://play-lh.googleusercontent.com/a-/AFdZu...   \n",
              "1  https://play-lh.googleusercontent.com/a-/AFdZu...   \n",
              "2  https://play-lh.googleusercontent.com/a/AItbvm...   \n",
              "3  https://play-lh.googleusercontent.com/a/AItbvm...   \n",
              "4  https://play-lh.googleusercontent.com/a/AItbvm...   \n",
              "\n",
              "                                             content  score  thumbsUpCount  \\\n",
              "0  Kaya nya sih bagus cuman sayang di fiture cuac...      1              0   \n",
              "1  Tidak akurat, saya daerah Jayapura, Keerom Ars...      1              0   \n",
              "2                    info cuacanya sangat tak sesuai      1              0   \n",
              "3                Ga guna masa udh gempa gk ada notif      1              1   \n",
              "4  Di Vivo T1 5G, notifikasi tidak bisa muncul me...      1              0   \n",
              "\n",
              "  reviewCreatedVersion                   at replyContent repliedAt  \\\n",
              "0                2.9.1  2022-09-07 06:08:08          NaN       NaN   \n",
              "1                2.9.1  2022-09-05 07:55:16          NaN       NaN   \n",
              "2                  NaN  2022-08-26 10:54:01          NaN       NaN   \n",
              "3                  NaN  2022-08-23 14:44:07          NaN       NaN   \n",
              "4                  NaN  2022-08-10 14:14:25          NaN       NaN   \n",
              "\n",
              "           appId  \n",
              "0  com.Info_BMKG  \n",
              "1  com.Info_BMKG  \n",
              "2  com.Info_BMKG  \n",
              "3  com.Info_BMKG  \n",
              "4  com.Info_BMKG  "
            ],
            "text/html": [
              "\n",
              "  <div id=\"df-7c302e5f-2f24-4f38-a22c-a3e79a8f6226\">\n",
              "    <div class=\"colab-df-container\">\n",
              "      <div>\n",
              "<style scoped>\n",
              "    .dataframe tbody tr th:only-of-type {\n",
              "        vertical-align: middle;\n",
              "    }\n",
              "\n",
              "    .dataframe tbody tr th {\n",
              "        vertical-align: top;\n",
              "    }\n",
              "\n",
              "    .dataframe thead th {\n",
              "        text-align: right;\n",
              "    }\n",
              "</style>\n",
              "<table border=\"1\" class=\"dataframe\">\n",
              "  <thead>\n",
              "    <tr style=\"text-align: right;\">\n",
              "      <th></th>\n",
              "      <th>reviewId</th>\n",
              "      <th>userName</th>\n",
              "      <th>userImage</th>\n",
              "      <th>content</th>\n",
              "      <th>score</th>\n",
              "      <th>thumbsUpCount</th>\n",
              "      <th>reviewCreatedVersion</th>\n",
              "      <th>at</th>\n",
              "      <th>replyContent</th>\n",
              "      <th>repliedAt</th>\n",
              "      <th>appId</th>\n",
              "    </tr>\n",
              "  </thead>\n",
              "  <tbody>\n",
              "    <tr>\n",
              "      <th>0</th>\n",
              "      <td>a0d4a535-bfcf-43fa-b322-dc175f319e8f</td>\n",
              "      <td>hanhan channel</td>\n",
              "      <td>https://play-lh.googleusercontent.com/a-/AFdZu...</td>\n",
              "      <td>Kaya nya sih bagus cuman sayang di fiture cuac...</td>\n",
              "      <td>1</td>\n",
              "      <td>0</td>\n",
              "      <td>2.9.1</td>\n",
              "      <td>2022-09-07 06:08:08</td>\n",
              "      <td>NaN</td>\n",
              "      <td>NaN</td>\n",
              "      <td>com.Info_BMKG</td>\n",
              "    </tr>\n",
              "    <tr>\n",
              "      <th>1</th>\n",
              "      <td>a7b2402f-0b8c-45e7-b60f-bb32a5f1d7fd</td>\n",
              "      <td>RIZAL Gaming</td>\n",
              "      <td>https://play-lh.googleusercontent.com/a-/AFdZu...</td>\n",
              "      <td>Tidak akurat, saya daerah Jayapura, Keerom Ars...</td>\n",
              "      <td>1</td>\n",
              "      <td>0</td>\n",
              "      <td>2.9.1</td>\n",
              "      <td>2022-09-05 07:55:16</td>\n",
              "      <td>NaN</td>\n",
              "      <td>NaN</td>\n",
              "      <td>com.Info_BMKG</td>\n",
              "    </tr>\n",
              "    <tr>\n",
              "      <th>2</th>\n",
              "      <td>1fa22ddb-9b17-4d60-9559-1e11f0a56ab3</td>\n",
              "      <td>Kapu</td>\n",
              "      <td>https://play-lh.googleusercontent.com/a/AItbvm...</td>\n",
              "      <td>info cuacanya sangat tak sesuai</td>\n",
              "      <td>1</td>\n",
              "      <td>0</td>\n",
              "      <td>NaN</td>\n",
              "      <td>2022-08-26 10:54:01</td>\n",
              "      <td>NaN</td>\n",
              "      <td>NaN</td>\n",
              "      <td>com.Info_BMKG</td>\n",
              "    </tr>\n",
              "    <tr>\n",
              "      <th>3</th>\n",
              "      <td>1ffb9d7a-db35-45d5-91cb-d3ff85623223</td>\n",
              "      <td>J2 PRIME</td>\n",
              "      <td>https://play-lh.googleusercontent.com/a/AItbvm...</td>\n",
              "      <td>Ga guna masa udh gempa gk ada notif</td>\n",
              "      <td>1</td>\n",
              "      <td>1</td>\n",
              "      <td>NaN</td>\n",
              "      <td>2022-08-23 14:44:07</td>\n",
              "      <td>NaN</td>\n",
              "      <td>NaN</td>\n",
              "      <td>com.Info_BMKG</td>\n",
              "    </tr>\n",
              "    <tr>\n",
              "      <th>4</th>\n",
              "      <td>3745858f-e03a-4d4e-b081-13edf09d3227</td>\n",
              "      <td>arief001 Arief001</td>\n",
              "      <td>https://play-lh.googleusercontent.com/a/AItbvm...</td>\n",
              "      <td>Di Vivo T1 5G, notifikasi tidak bisa muncul me...</td>\n",
              "      <td>1</td>\n",
              "      <td>0</td>\n",
              "      <td>NaN</td>\n",
              "      <td>2022-08-10 14:14:25</td>\n",
              "      <td>NaN</td>\n",
              "      <td>NaN</td>\n",
              "      <td>com.Info_BMKG</td>\n",
              "    </tr>\n",
              "  </tbody>\n",
              "</table>\n",
              "</div>\n",
              "      <button class=\"colab-df-convert\" onclick=\"convertToInteractive('df-7c302e5f-2f24-4f38-a22c-a3e79a8f6226')\"\n",
              "              title=\"Convert this dataframe to an interactive table.\"\n",
              "              style=\"display:none;\">\n",
              "        \n",
              "  <svg xmlns=\"http://www.w3.org/2000/svg\" height=\"24px\"viewBox=\"0 0 24 24\"\n",
              "       width=\"24px\">\n",
              "    <path d=\"M0 0h24v24H0V0z\" fill=\"none\"/>\n",
              "    <path d=\"M18.56 5.44l.94 2.06.94-2.06 2.06-.94-2.06-.94-.94-2.06-.94 2.06-2.06.94zm-11 1L8.5 8.5l.94-2.06 2.06-.94-2.06-.94L8.5 2.5l-.94 2.06-2.06.94zm10 10l.94 2.06.94-2.06 2.06-.94-2.06-.94-.94-2.06-.94 2.06-2.06.94z\"/><path d=\"M17.41 7.96l-1.37-1.37c-.4-.4-.92-.59-1.43-.59-.52 0-1.04.2-1.43.59L10.3 9.45l-7.72 7.72c-.78.78-.78 2.05 0 2.83L4 21.41c.39.39.9.59 1.41.59.51 0 1.02-.2 1.41-.59l7.78-7.78 2.81-2.81c.8-.78.8-2.07 0-2.86zM5.41 20L4 18.59l7.72-7.72 1.47 1.35L5.41 20z\"/>\n",
              "  </svg>\n",
              "      </button>\n",
              "      \n",
              "  <style>\n",
              "    .colab-df-container {\n",
              "      display:flex;\n",
              "      flex-wrap:wrap;\n",
              "      gap: 12px;\n",
              "    }\n",
              "\n",
              "    .colab-df-convert {\n",
              "      background-color: #E8F0FE;\n",
              "      border: none;\n",
              "      border-radius: 50%;\n",
              "      cursor: pointer;\n",
              "      display: none;\n",
              "      fill: #1967D2;\n",
              "      height: 32px;\n",
              "      padding: 0 0 0 0;\n",
              "      width: 32px;\n",
              "    }\n",
              "\n",
              "    .colab-df-convert:hover {\n",
              "      background-color: #E2EBFA;\n",
              "      box-shadow: 0px 1px 2px rgba(60, 64, 67, 0.3), 0px 1px 3px 1px rgba(60, 64, 67, 0.15);\n",
              "      fill: #174EA6;\n",
              "    }\n",
              "\n",
              "    [theme=dark] .colab-df-convert {\n",
              "      background-color: #3B4455;\n",
              "      fill: #D2E3FC;\n",
              "    }\n",
              "\n",
              "    [theme=dark] .colab-df-convert:hover {\n",
              "      background-color: #434B5C;\n",
              "      box-shadow: 0px 1px 3px 1px rgba(0, 0, 0, 0.15);\n",
              "      filter: drop-shadow(0px 1px 2px rgba(0, 0, 0, 0.3));\n",
              "      fill: #FFFFFF;\n",
              "    }\n",
              "  </style>\n",
              "\n",
              "      <script>\n",
              "        const buttonEl =\n",
              "          document.querySelector('#df-7c302e5f-2f24-4f38-a22c-a3e79a8f6226 button.colab-df-convert');\n",
              "        buttonEl.style.display =\n",
              "          google.colab.kernel.accessAllowed ? 'block' : 'none';\n",
              "\n",
              "        async function convertToInteractive(key) {\n",
              "          const element = document.querySelector('#df-7c302e5f-2f24-4f38-a22c-a3e79a8f6226');\n",
              "          const dataTable =\n",
              "            await google.colab.kernel.invokeFunction('convertToInteractive',\n",
              "                                                     [key], {});\n",
              "          if (!dataTable) return;\n",
              "\n",
              "          const docLinkHtml = 'Like what you see? Visit the ' +\n",
              "            '<a target=\"_blank\" href=https://colab.research.google.com/notebooks/data_table.ipynb>data table notebook</a>'\n",
              "            + ' to learn more about interactive tables.';\n",
              "          element.innerHTML = '';\n",
              "          dataTable['output_type'] = 'display_data';\n",
              "          await google.colab.output.renderOutput(dataTable, element);\n",
              "          const docLink = document.createElement('div');\n",
              "          docLink.innerHTML = docLinkHtml;\n",
              "          element.appendChild(docLink);\n",
              "        }\n",
              "      </script>\n",
              "    </div>\n",
              "  </div>\n",
              "  "
            ]
          },
          "metadata": {},
          "execution_count": 46
        }
      ]
    },
    {
      "cell_type": "code",
      "metadata": {
        "colab": {
          "base_uri": "https://localhost:8080/"
        },
        "id": "etO5oqWtiYuu",
        "outputId": "927489c9-b138-44f5-b34b-bbc10d91105b"
      },
      "source": [
        "df.info()"
      ],
      "execution_count": null,
      "outputs": [
        {
          "output_type": "stream",
          "name": "stdout",
          "text": [
            "<class 'pandas.core.frame.DataFrame'>\n",
            "RangeIndex: 18154 entries, 0 to 18153\n",
            "Data columns (total 11 columns):\n",
            " #   Column                Non-Null Count  Dtype \n",
            "---  ------                --------------  ----- \n",
            " 0   reviewId              18154 non-null  object\n",
            " 1   userName              18154 non-null  object\n",
            " 2   userImage             18154 non-null  object\n",
            " 3   content               18144 non-null  object\n",
            " 4   score                 18154 non-null  int64 \n",
            " 5   thumbsUpCount         18154 non-null  int64 \n",
            " 6   reviewCreatedVersion  12514 non-null  object\n",
            " 7   at                    18154 non-null  object\n",
            " 8   replyContent          189 non-null    object\n",
            " 9   repliedAt             189 non-null    object\n",
            " 10  appId                 18154 non-null  object\n",
            "dtypes: int64(2), object(9)\n",
            "memory usage: 1.5+ MB\n"
          ]
        }
      ]
    },
    {
      "cell_type": "code",
      "metadata": {
        "colab": {
          "base_uri": "https://localhost:8080/",
          "height": 345
        },
        "id": "c4LcEUTRie9Y",
        "outputId": "694aee79-9a41-4588-830d-fef7b2c2ec9a"
      },
      "source": [
        "sns.countplot(df.score)\n",
        "plt.xlabel('review score');"
      ],
      "execution_count": null,
      "outputs": [
        {
          "output_type": "stream",
          "name": "stderr",
          "text": [
            "/usr/local/lib/python3.7/dist-packages/seaborn/_decorators.py:43: FutureWarning: Pass the following variable as a keyword arg: x. From version 0.12, the only valid positional argument will be `data`, and passing other arguments without an explicit keyword will result in an error or misinterpretation.\n",
            "  FutureWarning\n"
          ]
        },
        {
          "output_type": "display_data",
          "data": {
            "text/plain": [
              "<Figure size 432x288 with 1 Axes>"
            ],
            "image/png": "[encoded data removed]"
          },
          "metadata": {
            "image/png": {
              "width": 410,
              "height": 272
            }
          }
        }
      ]
    },
    {
      "cell_type": "code",
      "metadata": {
        "id": "9Gxl1I_miv4t"
      },
      "source": [
        "def to_sentiment(rating):\n",
        "  rating = int(rating)\n",
        "  if rating < 3:\n",
        "    return 0\n",
        "  elif rating > 3:\n",
        "    return 2\n",
        "  else: \n",
        "    return 1\n",
        "\n",
        "df['sentiment'] = df.score.apply(to_sentiment)"
      ],
      "execution_count": null,
      "outputs": []
    },
    {
      "cell_type": "code",
      "metadata": {
        "id": "zM7vesjSiyOc"
      },
      "source": [
        "class_names = ['negative', 'netral', 'positive']"
      ],
      "execution_count": null,
      "outputs": []
    },
    {
      "cell_type": "code",
      "metadata": {
        "colab": {
          "base_uri": "https://localhost:8080/",
          "height": 344
        },
        "id": "a4mLvIOoi0RB",
        "outputId": "554b3387-fe95-4b3d-8940-ae3d791f8835"
      },
      "source": [
        "ax = sns.countplot(df.sentiment)\n",
        "plt.xlabel('review sentiment')\n",
        "ax.set_xticklabels(class_names);"
      ],
      "execution_count": null,
      "outputs": [
        {
          "output_type": "stream",
          "name": "stderr",
          "text": [
            "/usr/local/lib/python3.7/dist-packages/seaborn/_decorators.py:43: FutureWarning: Pass the following variable as a keyword arg: x. From version 0.12, the only valid positional argument will be `data`, and passing other arguments without an explicit keyword will result in an error or misinterpretation.\n",
            "  FutureWarning\n"
          ]
        },
        {
          "output_type": "display_data",
          "data": {
            "text/plain": [
              "<Figure size 432x288 with 1 Axes>"
            ],
            "image/png": "[encoded data removed]"
          },
          "metadata": {
            "image/png": {
              "width": 410,
              "height": 272
            }
          }
        }
      ]
    }
  ]
}